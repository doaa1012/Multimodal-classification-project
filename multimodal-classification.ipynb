{
 "cells": [
  {
   "cell_type": "markdown",
   "metadata": {
    "papermill": {
     "duration": 0.01954,
     "end_time": "2021-03-03T19:56:56.319842",
     "exception": false,
     "start_time": "2021-03-03T19:56:56.300302",
     "status": "completed"
    },
    "tags": []
   },
   "source": [
    "## Multimodal classification\n",
    "\n",
    "The project is organised along the following structure:\n",
    "0. Packages import\n",
    "1. Datasets, dataloaders\n",
    "2. Image\n",
    "3. Audio\n",
    "4. Multimodal classification"
   ]
  },
  {
   "cell_type": "markdown",
   "metadata": {
    "papermill": {
     "duration": 0.01792,
     "end_time": "2021-03-03T19:56:56.356437",
     "exception": false,
     "start_time": "2021-03-03T19:56:56.338517",
     "status": "completed"
    },
    "tags": []
   },
   "source": [
    "We begin by emptying any unwanted gpu usage."
   ]
  },
  {
   "cell_type": "code",
   "execution_count": 1,
   "metadata": {
    "_kg_hide-input": true,
    "_kg_hide-output": true,
    "execution": {
     "iopub.execute_input": "2021-03-03T19:56:56.399534Z",
     "iopub.status.busy": "2021-03-03T19:56:56.398850Z",
     "iopub.status.idle": "2021-03-03T19:57:08.754649Z",
     "shell.execute_reply": "2021-03-03T19:57:08.753862Z"
    },
    "papermill": {
     "duration": 12.380586,
     "end_time": "2021-03-03T19:57:08.754911",
     "exception": false,
     "start_time": "2021-03-03T19:56:56.374325",
     "status": "completed"
    },
    "tags": []
   },
   "outputs": [
    {
     "name": "stdout",
     "output_type": "stream",
     "text": [
      "Collecting GPUtil\r\n",
      "  Downloading GPUtil-1.4.0.tar.gz (5.5 kB)\r\n",
      "Building wheels for collected packages: GPUtil\r\n",
      "  Building wheel for GPUtil (setup.py) ... \u001b[?25l-\b \b\\\b \bdone\r\n",
      "\u001b[?25h  Created wheel for GPUtil: filename=GPUtil-1.4.0-py3-none-any.whl size=7410 sha256=c52dc92d88bb5c04e789498cb56e51c2910b2269a4b7d14c5b14a7b1422a8d18\r\n",
      "  Stored in directory: /root/.cache/pip/wheels/6e/f8/83/534c52482d6da64622ddbf72cd93c35d2ef2881b78fd08ff0c\r\n",
      "Successfully built GPUtil\r\n",
      "Installing collected packages: GPUtil\r\n",
      "Successfully installed GPUtil-1.4.0\r\n",
      "\u001b[33mWARNING: You are using pip version 21.0; however, version 21.0.1 is available.\r\n",
      "You should consider upgrading via the '/opt/conda/bin/python3.7 -m pip install --upgrade pip' command.\u001b[0m\r\n",
      "Initial GPU Usage\n",
      "| ID | GPU | MEM |\n",
      "------------------\n",
      "|  0 |  0% |  0% |\n",
      "GPU Usage after emptying the cache\n",
      "| ID | GPU | MEM |\n",
      "------------------\n",
      "|  0 | 10% |  2% |\n"
     ]
    }
   ],
   "source": [
    "!pip install GPUtil\n",
    "\n",
    "import torch\n",
    "from GPUtil import showUtilization as gpu_usage\n",
    "from numba import cuda\n",
    "\n",
    "def free_gpu_cache():\n",
    "    print(\"Initial GPU Usage\")\n",
    "    gpu_usage()                             \n",
    "\n",
    "    torch.cuda.empty_cache()\n",
    "\n",
    "    cuda.select_device(0)\n",
    "    cuda.close()\n",
    "    cuda.select_device(0)\n",
    "\n",
    "    print(\"GPU Usage after emptying the cache\")\n",
    "    gpu_usage()\n",
    "\n",
    "free_gpu_cache()"
   ]
  },
  {
   "cell_type": "markdown",
   "metadata": {
    "papermill": {
     "duration": 0.022723,
     "end_time": "2021-03-03T19:57:08.801625",
     "exception": false,
     "start_time": "2021-03-03T19:57:08.778902",
     "status": "completed"
    },
    "tags": []
   },
   "source": [
    "# Data import\n",
    "\n",
    "Here are all the packages that we used in the project."
   ]
  },
  {
   "cell_type": "code",
   "execution_count": 2,
   "metadata": {
    "_cell_guid": "b1076dfc-b9ad-4769-8c92-a6c4dae69d19",
    "_uuid": "8f2839f25d086af736a60e9eeb907d3b93b6e0e5",
    "execution": {
     "iopub.execute_input": "2021-03-03T19:57:08.858688Z",
     "iopub.status.busy": "2021-03-03T19:57:08.857967Z",
     "iopub.status.idle": "2021-03-03T19:57:10.039694Z",
     "shell.execute_reply": "2021-03-03T19:57:10.038942Z"
    },
    "papermill": {
     "duration": 1.214039,
     "end_time": "2021-03-03T19:57:10.039832",
     "exception": false,
     "start_time": "2021-03-03T19:57:08.825793",
     "status": "completed"
    },
    "tags": []
   },
   "outputs": [],
   "source": [
    "from __future__ import print_function, division\n",
    "\n",
    "import torch\n",
    "import torchvision\n",
    "import copy\n",
    "import torch.nn as nn\n",
    "import torch.nn.functional as F\n",
    "from torchvision import datasets, models, transforms\n",
    "from torch.utils.data import Dataset, DataLoader, random_split\n",
    "from torch.optim import lr_scheduler\n",
    "\n",
    "from skimage import io, transform\n",
    "\n",
    "import os\n",
    "import numpy as np \n",
    "import pandas as pd\n",
    "import matplotlib.pyplot as plt\n",
    "#from PIL import Image\n",
    "\n",
    "device = torch.device(\"cuda:0\" if torch.cuda.is_available() else \"cpu\")\n",
    "\n",
    "# File directory\n",
    "datadir = '/kaggle/input/iogs-atsi-multimodal'"
   ]
  },
  {
   "cell_type": "code",
   "execution_count": 3,
   "metadata": {
    "execution": {
     "iopub.execute_input": "2021-03-03T19:57:10.095901Z",
     "iopub.status.busy": "2021-03-03T19:57:10.094503Z",
     "iopub.status.idle": "2021-03-03T19:57:10.101755Z",
     "shell.execute_reply": "2021-03-03T19:57:10.102212Z"
    },
    "papermill": {
     "duration": 0.040731,
     "end_time": "2021-03-03T19:57:10.102355",
     "exception": false,
     "start_time": "2021-03-03T19:57:10.061624",
     "status": "completed"
    },
    "tags": []
   },
   "outputs": [],
   "source": [
    "from matplotlib.ticker import MaxNLocator\n",
    "def show_curves(acc_dict, loss_dict):\n",
    "    \n",
    "    train_score,eval_score = acc_dict.values()\n",
    "    train_score=list(map(float,train_score))\n",
    "    eval_score=list(map(float,eval_score))\n",
    "    ax = plt.figure().gca()\n",
    "    plt.plot(train_score)\n",
    "    plt.plot(eval_score)\n",
    "\n",
    "    ax.xaxis.set_major_locator(MaxNLocator(integer=True))\n",
    "\n",
    "    plt.legend(['train', 'val'])\n",
    "    plt.xlabel('number of epochs')\n",
    "    plt.ylabel('Accuracy')\n",
    "    plt.title('Learning curves')\n",
    "    plt.show()\n",
    "    \n",
    "    train_loss, eval_loss = loss_dict.values()\n",
    "    train_loss=list(map(float,train_loss))\n",
    "    eval_loss=list(map(float,eval_loss))\n",
    "    ax = plt.figure().gca()\n",
    "    plt.plot(train_loss)\n",
    "    plt.plot(eval_loss)\n",
    "\n",
    "    ax.xaxis.set_major_locator(MaxNLocator(integer=True))\n",
    "\n",
    "    plt.legend(['train', 'val'])\n",
    "    plt.xlabel('number of epochs')\n",
    "    plt.ylabel('Loss')\n",
    "    plt.title('Loss')\n",
    "    plt.show()"
   ]
  },
  {
   "cell_type": "markdown",
   "metadata": {
    "papermill": {
     "duration": 0.021291,
     "end_time": "2021-03-03T19:57:10.147404",
     "exception": false,
     "start_time": "2021-03-03T19:57:10.126113",
     "status": "completed"
    },
    "tags": []
   },
   "source": [
    "# 1. Datasets\n",
    "\n",
    "We create the datasets that we will use in the whole project. These are the train/test full tests."
   ]
  },
  {
   "cell_type": "code",
   "execution_count": 4,
   "metadata": {
    "execution": {
     "iopub.execute_input": "2021-03-03T19:57:10.199158Z",
     "iopub.status.busy": "2021-03-03T19:57:10.198604Z",
     "iopub.status.idle": "2021-03-03T19:57:11.720472Z",
     "shell.execute_reply": "2021-03-03T19:57:11.719949Z"
    },
    "papermill": {
     "duration": 1.551572,
     "end_time": "2021-03-03T19:57:11.720605",
     "exception": false,
     "start_time": "2021-03-03T19:57:10.169033",
     "status": "completed"
    },
    "tags": []
   },
   "outputs": [],
   "source": [
    "## train\n",
    "traindata = pd.read_csv(os.path.join(datadir,'data_train.csv'), delimiter=',', nrows = None)\n",
    "data = np.array(traindata)\n",
    "# class and data\n",
    "y_train = data[:,-1].astype('int32')\n",
    "audio_train_df = traindata.iloc[:,1:-1]\n",
    "image_train_df = traindata['IMAGE']\n",
    "\n",
    "## test\n",
    "testdata = pd.read_csv(os.path.join(datadir,'data_test_novt.csv'), delimiter=',', nrows = None)\n",
    "audio_test_df = testdata.iloc[:,1:]\n",
    "image_test_df = testdata['IMAGE']\n",
    "\n",
    "nbClass = max(y_train)+1"
   ]
  },
  {
   "cell_type": "markdown",
   "metadata": {
    "papermill": {
     "duration": 0.02194,
     "end_time": "2021-03-03T19:57:11.764923",
     "exception": false,
     "start_time": "2021-03-03T19:57:11.742983",
     "status": "completed"
    },
    "tags": []
   },
   "source": [
    "This class is for formatting the datasets."
   ]
  },
  {
   "cell_type": "code",
   "execution_count": 5,
   "metadata": {
    "execution": {
     "iopub.execute_input": "2021-03-03T19:57:11.818973Z",
     "iopub.status.busy": "2021-03-03T19:57:11.817816Z",
     "iopub.status.idle": "2021-03-03T19:57:11.820909Z",
     "shell.execute_reply": "2021-03-03T19:57:11.820462Z"
    },
    "papermill": {
     "duration": 0.034368,
     "end_time": "2021-03-03T19:57:11.821020",
     "exception": false,
     "start_time": "2021-03-03T19:57:11.786652",
     "status": "completed"
    },
    "tags": []
   },
   "outputs": [],
   "source": [
    "class CustomImageAudioDataset(Dataset):\n",
    "    def __init__(self, target, img_dataset = None, audio_dataset= None, transform=None):\n",
    "        \"\"\"\n",
    "        Args:\n",
    "            transform (callable, optional): Optional transform to be applied\n",
    "                on a sample.\n",
    "        \"\"\"\n",
    "        self.img_dataset = img_dataset\n",
    "        self.audio_dataset = audio_dataset\n",
    "        self.target = target\n",
    "        self.transform = transform\n",
    "\n",
    "    def __len__(self):\n",
    "        return len(self.target)\n",
    "\n",
    "    def __getitem__(self, idx):\n",
    "        if torch.is_tensor(idx):\n",
    "            idx = idx.tolist()\n",
    "        \n",
    "        target = self.target[idx]\n",
    "        \n",
    "        if self.img_dataset is not None:\n",
    "            img_name = self.img_dataset.iloc[idx]\n",
    "            image = io.imread(datadir+'/data/data/'+img_name)\n",
    "            image = torch.Tensor(image)\n",
    "            if self.transform:\n",
    "                image = self.transform(image)\n",
    "            image = image.permute(2,1,0)#.long()\n",
    "            if self.audio_dataset is None:\n",
    "                return image,target\n",
    "            \n",
    "        if self.audio_dataset is not None:\n",
    "            audio = self.audio_dataset.iloc[idx]\n",
    "            audio = torch.Tensor(audio)\n",
    "            if self.img_dataset is None: \n",
    "                return audio,target\n",
    "            \n",
    "        return image,audio,target"
   ]
  },
  {
   "cell_type": "markdown",
   "metadata": {
    "papermill": {
     "duration": 0.021666,
     "end_time": "2021-03-03T19:57:11.865156",
     "exception": false,
     "start_time": "2021-03-03T19:57:11.843490",
     "status": "completed"
    },
    "tags": []
   },
   "source": [
    "And this is to create the dataloaders."
   ]
  },
  {
   "cell_type": "code",
   "execution_count": 6,
   "metadata": {
    "execution": {
     "iopub.execute_input": "2021-03-03T19:57:11.917061Z",
     "iopub.status.busy": "2021-03-03T19:57:11.915231Z",
     "iopub.status.idle": "2021-03-03T19:57:11.917746Z",
     "shell.execute_reply": "2021-03-03T19:57:11.918169Z"
    },
    "papermill": {
     "duration": 0.030861,
     "end_time": "2021-03-03T19:57:11.918322",
     "exception": false,
     "start_time": "2021-03-03T19:57:11.887461",
     "status": "completed"
    },
    "tags": []
   },
   "outputs": [],
   "source": [
    "def createLoaders(full_train_dataset, batch_size = 4):\n",
    "# Split dataset\n",
    "    global dataset_sizes\n",
    "    dataset_size = len(full_train_dataset)\n",
    "    val_size = int(0.2*dataset_size)\n",
    "    train_size = dataset_size-val_size\n",
    "    dataset_sizes = {'train':train_size, 'val':val_size}\n",
    "\n",
    "    train_dataset, val_dataset = random_split(\n",
    "            full_train_dataset,\n",
    "            [train_size, val_size],\n",
    "            generator=torch.Generator().manual_seed(42)\n",
    "    )\n",
    "\n",
    "    # Create dataloaders\n",
    "    trainloader = torch.utils.data.DataLoader(\n",
    "        train_dataset,\n",
    "        batch_size=4,\n",
    "        shuffle=True\n",
    "    )\n",
    "    valloader   = torch.utils.data.DataLoader(\n",
    "        val_dataset,\n",
    "        batch_size=4,\n",
    "        shuffle=True\n",
    "    )\n",
    "    \n",
    "    return trainloader, valloader"
   ]
  },
  {
   "cell_type": "code",
   "execution_count": 7,
   "metadata": {
    "execution": {
     "iopub.execute_input": "2021-03-03T19:57:11.968218Z",
     "iopub.status.busy": "2021-03-03T19:57:11.967624Z",
     "iopub.status.idle": "2021-03-03T19:57:12.124444Z",
     "shell.execute_reply": "2021-03-03T19:57:12.124986Z"
    },
    "papermill": {
     "duration": 0.185204,
     "end_time": "2021-03-03T19:57:12.125192",
     "exception": false,
     "start_time": "2021-03-03T19:57:11.939988",
     "status": "completed"
    },
    "tags": []
   },
   "outputs": [
    {
     "name": "stdout",
     "output_type": "stream",
     "text": [
      "torch.Size([4])\n",
      "torch.Size([4])\n"
     ]
    }
   ],
   "source": [
    "# Create dataset\n",
    "full_train_dataset = CustomImageAudioDataset(y_train, image_train_df,audio_train_df,)\n",
    "trainloader, valloader = createLoaders(full_train_dataset)\n",
    "dataloaders = {'train': trainloader, 'val':valloader}\n",
    "\n",
    "\n",
    "sample = next(iter(trainloader))[2]\n",
    "print(sample.shape)\n",
    "\n",
    "sample = next(iter(valloader))[2]\n",
    "print(sample.shape)"
   ]
  },
  {
   "cell_type": "markdown",
   "metadata": {
    "papermill": {
     "duration": 0.022165,
     "end_time": "2021-03-03T19:57:12.170670",
     "exception": false,
     "start_time": "2021-03-03T19:57:12.148505",
     "status": "completed"
    },
    "tags": []
   },
   "source": [
    "# 2. Images"
   ]
  },
  {
   "cell_type": "markdown",
   "metadata": {
    "papermill": {
     "duration": 0.022141,
     "end_time": "2021-03-03T19:57:12.214987",
     "exception": false,
     "start_time": "2021-03-03T19:57:12.192846",
     "status": "completed"
    },
    "tags": []
   },
   "source": [
    "We will use transfer learning, with a learning rate of 10^-3 (standard for fine-tuning)."
   ]
  },
  {
   "cell_type": "code",
   "execution_count": 8,
   "metadata": {
    "execution": {
     "iopub.execute_input": "2021-03-03T19:57:12.266610Z",
     "iopub.status.busy": "2021-03-03T19:57:12.265693Z",
     "iopub.status.idle": "2021-03-03T19:57:12.318133Z",
     "shell.execute_reply": "2021-03-03T19:57:12.318600Z"
    },
    "papermill": {
     "duration": 0.080541,
     "end_time": "2021-03-03T19:57:12.318741",
     "exception": false,
     "start_time": "2021-03-03T19:57:12.238200",
     "status": "completed"
    },
    "tags": []
   },
   "outputs": [
    {
     "name": "stdout",
     "output_type": "stream",
     "text": [
      "torch.Size([4, 3, 256, 256])\n"
     ]
    }
   ],
   "source": [
    "# Instanciate dataset\n",
    "full_train_dataset = CustomImageAudioDataset(y_train, img_dataset = image_train_df)\n",
    "trainloader, valloader = createLoaders(full_train_dataset)\n",
    "dataloaders = {'train': trainloader, 'val':valloader}\n",
    "\n",
    "sample_target = next(iter(trainloader))[0]\n",
    "print(sample_target.shape)"
   ]
  },
  {
   "cell_type": "code",
   "execution_count": 9,
   "metadata": {
    "execution": {
     "iopub.execute_input": "2021-03-03T19:57:12.374817Z",
     "iopub.status.busy": "2021-03-03T19:57:12.374309Z",
     "iopub.status.idle": "2021-03-03T19:57:19.830390Z",
     "shell.execute_reply": "2021-03-03T19:57:19.829879Z"
    },
    "papermill": {
     "duration": 7.488134,
     "end_time": "2021-03-03T19:57:19.830530",
     "exception": false,
     "start_time": "2021-03-03T19:57:12.342396",
     "status": "completed"
    },
    "tags": []
   },
   "outputs": [
    {
     "name": "stderr",
     "output_type": "stream",
     "text": [
      "Downloading: \"https://download.pytorch.org/models/resnet18-5c106cde.pth\" to /root/.cache/torch/hub/checkpoints/resnet18-5c106cde.pth\n"
     ]
    },
    {
     "data": {
      "application/vnd.jupyter.widget-view+json": {
       "model_id": "ba9e231931e949c9bf5432979019f6a4",
       "version_major": 2,
       "version_minor": 0
      },
      "text/plain": [
       "  0%|          | 0.00/44.7M [00:00<?, ?B/s]"
      ]
     },
     "metadata": {},
     "output_type": "display_data"
    }
   ],
   "source": [
    "model_ft = models.resnet18(pretrained=True) # You need to enable internet\n",
    "#print(model_ft)\n",
    "\n",
    "num_ftrs = model_ft.fc.in_features\n",
    "model_ft.fc = nn.Linear(\n",
    "    in_features = num_ftrs, \n",
    "    out_features = nbClass\n",
    ")\n",
    "model_ft = model_ft.to(device)\n",
    "criterion = nn.CrossEntropyLoss()\n",
    "\n",
    "optimizer_ft = torch.optim.SGD(model_ft.parameters(), lr=0.001, momentum=0.9)\n",
    "\n",
    "# Decay LR by a factor of 0.1 every 7 epochs\n",
    "exp_lr_scheduler = lr_scheduler.StepLR(optimizer_ft, step_size=7, gamma=0.1)"
   ]
  },
  {
   "cell_type": "code",
   "execution_count": 10,
   "metadata": {
    "execution": {
     "iopub.execute_input": "2021-03-03T19:57:19.882842Z",
     "iopub.status.busy": "2021-03-03T19:57:19.882140Z",
     "iopub.status.idle": "2021-03-03T19:57:19.884996Z",
     "shell.execute_reply": "2021-03-03T19:57:19.884597Z"
    },
    "papermill": {
     "duration": 0.030316,
     "end_time": "2021-03-03T19:57:19.885118",
     "exception": false,
     "start_time": "2021-03-03T19:57:19.854802",
     "status": "completed"
    },
    "tags": []
   },
   "outputs": [],
   "source": [
    "acc_dict = {'train':[], 'val':[]}\n",
    "loss_dict= {'train':[], 'val':[]}\n",
    "epoch = 0"
   ]
  },
  {
   "cell_type": "code",
   "execution_count": 11,
   "metadata": {
    "execution": {
     "iopub.execute_input": "2021-03-03T19:57:19.946272Z",
     "iopub.status.busy": "2021-03-03T19:57:19.945481Z",
     "iopub.status.idle": "2021-03-03T20:19:45.895685Z",
     "shell.execute_reply": "2021-03-03T20:19:45.894985Z"
    },
    "papermill": {
     "duration": 1345.986853,
     "end_time": "2021-03-03T20:19:45.895815",
     "exception": false,
     "start_time": "2021-03-03T19:57:19.908962",
     "status": "completed"
    },
    "tags": []
   },
   "outputs": [
    {
     "name": "stdout",
     "output_type": "stream",
     "text": [
      "Epoch 0/9\n",
      "----------\n",
      "train Loss: 0.3557 Acc: 0.8875\n",
      "val Loss: 0.0738 Acc: 0.9732\n",
      "\n",
      "Epoch 1/9\n",
      "----------\n",
      "train Loss: 0.1421 Acc: 0.9568\n",
      "val Loss: 0.0583 Acc: 0.9779\n",
      "\n",
      "Epoch 2/9\n",
      "----------\n",
      "train Loss: 0.0968 Acc: 0.9715\n",
      "val Loss: 0.0545 Acc: 0.9873\n",
      "\n",
      "Epoch 3/9\n",
      "----------\n",
      "train Loss: 0.0667 Acc: 0.9815\n",
      "val Loss: 0.0461 Acc: 0.9844\n",
      "\n",
      "Epoch 4/9\n",
      "----------\n",
      "train Loss: 0.0677 Acc: 0.9807\n",
      "val Loss: 0.0314 Acc: 0.9920\n",
      "\n",
      "Epoch 5/9\n",
      "----------\n",
      "train Loss: 0.0408 Acc: 0.9889\n",
      "val Loss: 0.0579 Acc: 0.9837\n",
      "\n",
      "Epoch 6/9\n",
      "----------\n",
      "train Loss: 0.0267 Acc: 0.9939\n",
      "val Loss: 0.0311 Acc: 0.9913\n",
      "\n",
      "Epoch 7/9\n",
      "----------\n",
      "train Loss: 0.0234 Acc: 0.9939\n",
      "val Loss: 0.0225 Acc: 0.9938\n",
      "\n",
      "Epoch 8/9\n",
      "----------\n",
      "train Loss: 0.0251 Acc: 0.9949\n",
      "val Loss: 0.0236 Acc: 0.9924\n",
      "\n",
      "Epoch 9/9\n",
      "----------\n",
      "train Loss: 0.0148 Acc: 0.9962\n",
      "val Loss: 0.0337 Acc: 0.9899\n",
      "\n",
      "Best val Acc: 0.993841\n"
     ]
    },
    {
     "data": {
      "image/png": "[encoded data removed]",
      "text/plain": [
       "<Figure size 432x288 with 1 Axes>"
      ]
     },
     "metadata": {
      "needs_background": "light"
     },
     "output_type": "display_data"
    },
    {
     "data": {
      "image/png": "[encoded data removed]",
      "text/plain": [
       "<Figure size 432x288 with 1 Axes>"
      ]
     },
     "metadata": {
      "needs_background": "light"
     },
     "output_type": "display_data"
    }
   ],
   "source": [
    "def train_model(model, criterion, optimizer, scheduler, num_epochs=25):\n",
    "    global epoch\n",
    "    best_model_wts = copy.deepcopy(model.state_dict())\n",
    "    best_acc = 0.0\n",
    "\n",
    "    for epoch in range(epoch, epoch + num_epochs):\n",
    "        print('Epoch {}/{}'.format(epoch, num_epochs - 1))\n",
    "        print('-' * 10)\n",
    "\n",
    "        # Each epoch has a training and validation phase\n",
    "        for phase in ['train', 'val']:\n",
    "            if phase == 'train':\n",
    "                model.train()  # Set model to training mode\n",
    "            else:\n",
    "                model.eval()   # Set model to evaluate mode\n",
    "\n",
    "            running_loss = 0.0\n",
    "            running_corrects = 0\n",
    "\n",
    "            # Iterate over data.\n",
    "            for inputs, labels in dataloaders[phase]:\n",
    "                inputs = inputs.to(device)\n",
    "                labels = labels.type(torch.LongTensor).to(device)\n",
    "\n",
    "                # zero the parameter gradients\n",
    "                optimizer.zero_grad()\n",
    "\n",
    "                # forward\n",
    "                # track history if only in train\n",
    "                with torch.set_grad_enabled(phase == 'train'):\n",
    "                    outputs = model(inputs).to(device)\n",
    "                    _, preds = torch.max(outputs, 1)\n",
    "                    preds.to(device)\n",
    "                    loss = criterion(outputs, labels)\n",
    "\n",
    "                    # backward + optimize only if in training phase\n",
    "                    if phase == 'train':\n",
    "                        loss.backward()\n",
    "                        optimizer.step()\n",
    "\n",
    "                # statistics\n",
    "                running_loss += loss.item() * inputs.size(0)\n",
    "                running_corrects += torch.sum(preds == labels.data)\n",
    "            if phase == 'train':\n",
    "                scheduler.step()\n",
    "\n",
    "            epoch_loss = running_loss / dataset_sizes[phase]\n",
    "            epoch_acc = running_corrects.double() / dataset_sizes[phase]\n",
    "\n",
    "            print('{} Loss: {:.4f} Acc: {:.4f}'.format(\n",
    "                phase, epoch_loss, epoch_acc))\n",
    "            acc_dict[phase].append(epoch_acc)\n",
    "            loss_dict[phase].append(epoch_loss)\n",
    "\n",
    "            # deep copy the model\n",
    "            if phase == 'val' and epoch_acc > best_acc:\n",
    "                best_acc = epoch_acc\n",
    "                best_model_wts = copy.deepcopy(model.state_dict())\n",
    "\n",
    "        print()\n",
    "\n",
    "    print('Best val Acc: {:4f}'.format(best_acc))\n",
    "    \n",
    "    show_curves(acc_dict, loss_dict)\n",
    "\n",
    "\n",
    "    # load best model weights\n",
    "    model.load_state_dict(best_model_wts)\n",
    "    return model\n",
    "\n",
    "\n",
    "model_ft = train_model(model_ft, criterion, optimizer_ft, exp_lr_scheduler, num_epochs=10)"
   ]
  },
  {
   "cell_type": "markdown",
   "metadata": {
    "papermill": {
     "duration": 0.030424,
     "end_time": "2021-03-03T20:19:45.957587",
     "exception": false,
     "start_time": "2021-03-03T20:19:45.927163",
     "status": "completed"
    },
    "tags": []
   },
   "source": [
    "# Audio"
   ]
  },
  {
   "cell_type": "code",
   "execution_count": 12,
   "metadata": {
    "execution": {
     "iopub.execute_input": "2021-03-03T20:19:46.023055Z",
     "iopub.status.busy": "2021-03-03T20:19:46.022253Z",
     "iopub.status.idle": "2021-03-03T20:19:46.029963Z",
     "shell.execute_reply": "2021-03-03T20:19:46.030462Z"
    },
    "papermill": {
     "duration": 0.042731,
     "end_time": "2021-03-03T20:19:46.030584",
     "exception": false,
     "start_time": "2021-03-03T20:19:45.987853",
     "status": "completed"
    },
    "tags": []
   },
   "outputs": [
    {
     "name": "stdout",
     "output_type": "stream",
     "text": [
      "torch.Size([4, 104])\n"
     ]
    }
   ],
   "source": [
    "full_audio_dataset = CustomImageAudioDataset(y_train, audio_dataset = audio_train_df)\n",
    "train_loader, valid_loader = createLoaders(full_audio_dataset, batch_size = 64)\n",
    "\n",
    "sample_target = next(iter(train_loader))[0]\n",
    "print(sample_target.shape)"
   ]
  },
  {
   "cell_type": "code",
   "execution_count": 13,
   "metadata": {
    "execution": {
     "iopub.execute_input": "2021-03-03T20:19:46.098486Z",
     "iopub.status.busy": "2021-03-03T20:19:46.097806Z",
     "iopub.status.idle": "2021-03-03T20:19:46.105894Z",
     "shell.execute_reply": "2021-03-03T20:19:46.105459Z"
    },
    "papermill": {
     "duration": 0.044577,
     "end_time": "2021-03-03T20:19:46.106000",
     "exception": false,
     "start_time": "2021-03-03T20:19:46.061423",
     "status": "completed"
    },
    "tags": []
   },
   "outputs": [],
   "source": [
    "class MonReseau(nn.Module):\n",
    "    def __init__(self):\n",
    "        super(MonReseau, self).__init__()\n",
    "        \n",
    "        #self.linear1 = nn.Linear(104, 9)\n",
    "        self.linear1 = nn.Linear(104, 512)\n",
    "        self.linear2 = nn.Linear(512, 1024)\n",
    "        self.linear3 = nn.Linear(1024, 9)\n",
    "        \n",
    "      \n",
    "    def forward(self, x):\n",
    "        x = F.leaky_relu(self.linear1(x))\n",
    "        x = F.leaky_relu(self.linear2(x))\n",
    "        x = self.linear3(x)\n",
    "        return x\n",
    "\n",
    "monreseau = MonReseau()\n",
    "monreseau = monreseau.cuda()"
   ]
  },
  {
   "cell_type": "code",
   "execution_count": 14,
   "metadata": {
    "execution": {
     "iopub.execute_input": "2021-03-03T20:19:46.172170Z",
     "iopub.status.busy": "2021-03-03T20:19:46.171569Z",
     "iopub.status.idle": "2021-03-03T20:19:46.174184Z",
     "shell.execute_reply": "2021-03-03T20:19:46.174603Z"
    },
    "papermill": {
     "duration": 0.037677,
     "end_time": "2021-03-03T20:19:46.174736",
     "exception": false,
     "start_time": "2021-03-03T20:19:46.137059",
     "status": "completed"
    },
    "tags": []
   },
   "outputs": [],
   "source": [
    "optimizer = torch.optim.Adam(monreseau.parameters(), lr=0.0001)\n",
    "loss_fn = nn.CrossEntropyLoss()\n",
    "epoch = 0"
   ]
  },
  {
   "cell_type": "code",
   "execution_count": 15,
   "metadata": {
    "execution": {
     "iopub.execute_input": "2021-03-03T20:19:46.285947Z",
     "iopub.status.busy": "2021-03-03T20:19:46.285149Z",
     "iopub.status.idle": "2021-03-03T20:19:46.288629Z",
     "shell.execute_reply": "2021-03-03T20:19:46.289263Z"
    },
    "papermill": {
     "duration": 0.071644,
     "end_time": "2021-03-03T20:19:46.289468",
     "exception": false,
     "start_time": "2021-03-03T20:19:46.217824",
     "status": "completed"
    },
    "tags": []
   },
   "outputs": [],
   "source": [
    "def evaluation(dataloader):\n",
    "    monreseau.eval()\n",
    "    with torch.no_grad():\n",
    "        total = 0\n",
    "        correct = 0\n",
    "        for inputs, targets in dataloader:\n",
    "            inputs, targets = inputs.cuda(),targets.cuda()\n",
    "            _, predicted = torch.max(monreseau(inputs),1)\n",
    "            total += targets.size(0)\n",
    "            correct += (predicted.squeeze() == targets).sum()\n",
    "    return(float(correct/total))"
   ]
  },
  {
   "cell_type": "code",
   "execution_count": 16,
   "metadata": {
    "execution": {
     "iopub.execute_input": "2021-03-03T20:19:46.400855Z",
     "iopub.status.busy": "2021-03-03T20:19:46.400038Z",
     "iopub.status.idle": "2021-03-03T20:19:46.402349Z",
     "shell.execute_reply": "2021-03-03T20:19:46.403362Z"
    },
    "papermill": {
     "duration": 0.060992,
     "end_time": "2021-03-03T20:19:46.403579",
     "exception": false,
     "start_time": "2021-03-03T20:19:46.342587",
     "status": "completed"
    },
    "tags": []
   },
   "outputs": [],
   "source": [
    "epoch = 0"
   ]
  },
  {
   "cell_type": "code",
   "execution_count": 17,
   "metadata": {
    "execution": {
     "iopub.execute_input": "2021-03-03T20:19:46.527168Z",
     "iopub.status.busy": "2021-03-03T20:19:46.526423Z",
     "iopub.status.idle": "2021-03-03T20:26:19.456377Z",
     "shell.execute_reply": "2021-03-03T20:26:19.455760Z"
    },
    "papermill": {
     "duration": 392.989528,
     "end_time": "2021-03-03T20:26:19.456551",
     "exception": false,
     "start_time": "2021-03-03T20:19:46.467023",
     "status": "completed"
    },
    "tags": []
   },
   "outputs": [
    {
     "name": "stdout",
     "output_type": "stream",
     "text": [
      "epoch 0\n",
      "85.03623604774475\n",
      "epoch 1\n",
      "86.95652484893799\n",
      "epoch 2\n",
      "90.03623723983765\n",
      "epoch 3\n",
      "91.19565486907959\n",
      "epoch 4\n",
      "90.36232233047485\n",
      "epoch 5\n",
      "88.94928097724915\n",
      "epoch 6\n",
      "91.81159734725952\n",
      "epoch 7\n",
      "91.77536368370056\n",
      "epoch 8\n",
      "90.36232233047485\n",
      "epoch 9\n",
      "91.34058356285095\n",
      "epoch 10\n",
      "90.97826480865479\n",
      "epoch 11\n",
      "92.31884479522705\n",
      "epoch 12\n",
      "92.10145473480225\n",
      "epoch 13\n",
      "91.44927859306335\n",
      "epoch 14\n",
      "92.13768243789673\n",
      "epoch 15\n",
      "92.42753982543945\n",
      "epoch 16\n",
      "92.21014976501465\n",
      "epoch 17\n",
      "90.68840742111206\n",
      "epoch 18\n",
      "92.10145473480225\n",
      "epoch 19\n",
      "92.53623485565186\n",
      "epoch 20\n",
      "92.89855360984802\n",
      "epoch 21\n",
      "91.92029237747192\n",
      "epoch 22\n",
      "91.59420728683472\n",
      "epoch 23\n",
      "91.5217399597168\n",
      "epoch 24\n",
      "91.05072617530823\n",
      "epoch 25\n",
      "91.88405871391296\n",
      "epoch 26\n",
      "92.17391610145569\n",
      "epoch 27\n",
      "91.55797362327576\n",
      "epoch 28\n",
      "91.19565486907959\n",
      "epoch 29\n",
      "91.99275970458984\n",
      "epoch 30\n",
      "92.93478727340698\n",
      "epoch 31\n",
      "93.07971596717834\n",
      "epoch 32\n",
      "91.6304349899292\n",
      "epoch 33\n",
      "92.21014976501465\n",
      "epoch 34\n",
      "91.15942120552063\n",
      "epoch 35\n",
      "92.31884479522705\n",
      "epoch 36\n",
      "91.37681722640991\n",
      "epoch 37\n",
      "91.84783101081848\n",
      "epoch 38\n",
      "91.70290231704712\n",
      "epoch 39\n",
      "92.5000011920929\n",
      "epoch 40\n",
      "92.31884479522705\n",
      "epoch 41\n",
      "91.48551225662231\n",
      "epoch 42\n",
      "92.82609224319458\n",
      "epoch 43\n",
      "89.27536606788635\n",
      "epoch 44\n",
      "91.55797362327576\n",
      "epoch 45\n",
      "92.82609224319458\n",
      "epoch 46\n",
      "91.44927859306335\n",
      "epoch 47\n",
      "92.3913061618805\n",
      "epoch 48\n",
      "92.10145473480225\n",
      "epoch 49\n",
      "92.75362491607666\n"
     ]
    }
   ],
   "source": [
    "def train_audio(nbepochs = 10):\n",
    "    global epoch\n",
    "    for epoch in range(epoch, epoch + nbepochs):\n",
    "        monreseau.train()\n",
    "        print(\"epoch\", epoch)\n",
    "        for inputs, targets in train_loader:\n",
    "            inputs, targets = inputs.cuda(),targets.type(torch.LongTensor).cuda()\n",
    "\n",
    "            monreseau.zero_grad()\n",
    "            mespredictions = monreseau(inputs)\n",
    "            loss = criterion(mespredictions,targets) \n",
    "\n",
    "            loss.backward()\n",
    "            optimizer.step()\n",
    "\n",
    "        print(100*evaluation(valid_loader))\n",
    "    epoch = epoch + 1\n",
    "train_audio(nbepochs = 50)"
   ]
  },
  {
   "cell_type": "markdown",
   "metadata": {
    "papermill": {
     "duration": 0.044014,
     "end_time": "2021-03-03T20:26:19.546016",
     "exception": false,
     "start_time": "2021-03-03T20:26:19.502002",
     "status": "completed"
    },
    "tags": []
   },
   "source": [
    "# Multimodal"
   ]
  },
  {
   "cell_type": "markdown",
   "metadata": {
    "papermill": {
     "duration": 0.044972,
     "end_time": "2021-03-03T20:26:19.635328",
     "exception": false,
     "start_time": "2021-03-03T20:26:19.590356",
     "status": "completed"
    },
    "tags": []
   },
   "source": [
    "Dataloaders"
   ]
  },
  {
   "cell_type": "code",
   "execution_count": 18,
   "metadata": {
    "execution": {
     "iopub.execute_input": "2021-03-03T20:26:19.731457Z",
     "iopub.status.busy": "2021-03-03T20:26:19.730571Z",
     "iopub.status.idle": "2021-03-03T20:26:19.813955Z",
     "shell.execute_reply": "2021-03-03T20:26:19.813386Z"
    },
    "papermill": {
     "duration": 0.133212,
     "end_time": "2021-03-03T20:26:19.814119",
     "exception": false,
     "start_time": "2021-03-03T20:26:19.680907",
     "status": "completed"
    },
    "tags": []
   },
   "outputs": [
    {
     "name": "stdout",
     "output_type": "stream",
     "text": [
      "torch.Size([4])\n",
      "torch.Size([4])\n"
     ]
    }
   ],
   "source": [
    "# Create dataset\n",
    "full_train_dataset = CustomImageAudioDataset(y_train, image_train_df,audio_train_df,)\n",
    "trainloader, valloader = createLoaders(full_train_dataset)\n",
    "dataloaders = {'train': trainloader, 'val':valloader}\n",
    "\n",
    "\n",
    "sample = next(iter(trainloader))[2]\n",
    "print(sample.shape)\n",
    "\n",
    "sample_target = next(iter(valloader))[2]\n",
    "print(sample.shape)"
   ]
  },
  {
   "cell_type": "markdown",
   "metadata": {
    "papermill": {
     "duration": 0.046446,
     "end_time": "2021-03-03T20:26:19.907435",
     "exception": false,
     "start_time": "2021-03-03T20:26:19.860989",
     "status": "completed"
    },
    "tags": []
   },
   "source": [
    "Class resnet"
   ]
  },
  {
   "cell_type": "code",
   "execution_count": 19,
   "metadata": {
    "execution": {
     "iopub.execute_input": "2021-03-03T20:26:20.016901Z",
     "iopub.status.busy": "2021-03-03T20:26:20.001234Z",
     "iopub.status.idle": "2021-03-03T20:26:20.026390Z",
     "shell.execute_reply": "2021-03-03T20:26:20.025960Z"
    },
    "papermill": {
     "duration": 0.073539,
     "end_time": "2021-03-03T20:26:20.026534",
     "exception": false,
     "start_time": "2021-03-03T20:26:19.952995",
     "status": "completed"
    },
    "tags": []
   },
   "outputs": [],
   "source": [
    "import torch\n",
    "import torch.nn as nn\n",
    "from torchvision.models.resnet import conv1x1, conv3x3, model_urls, load_state_dict_from_url, BasicBlock, Bottleneck\n",
    "\n",
    "\n",
    "class ResNet(nn.Module):\n",
    "    def __init__(self, block, layers, num_classes=1000, zero_init_residual=False,\n",
    "                 groups=1, width_per_group=64, replace_stride_with_dilation=None,\n",
    "                 norm_layer=None):\n",
    "        super(ResNet, self).__init__()\n",
    "        if norm_layer is None:\n",
    "            norm_layer = nn.BatchNorm2d\n",
    "        self._norm_layer = norm_layer\n",
    "\n",
    "        self.inplanes = 64\n",
    "        self.dilation = 1\n",
    "        if replace_stride_with_dilation is None:\n",
    "            # each element in the tuple indicates if we should replace\n",
    "            # the 2x2 stride with a dilated convolution instead\n",
    "            replace_stride_with_dilation = [False, False, False]\n",
    "        if len(replace_stride_with_dilation) != 3:\n",
    "            raise ValueError(\"replace_stride_with_dilation should be None \"\n",
    "                             \"or a 3-element tuple, got {}\".format(replace_stride_with_dilation))\n",
    "        self.groups = groups\n",
    "        self.base_width = width_per_group\n",
    "        self.conv1 = nn.Conv2d(3, self.inplanes, kernel_size=7, stride=2, padding=3,\n",
    "                               bias=False)\n",
    "        self.bn1 = norm_layer(self.inplanes)\n",
    "        self.relu = nn.ReLU(inplace=True)\n",
    "        self.maxpool = nn.MaxPool2d(kernel_size=3, stride=2, padding=1)\n",
    "        self.layer1 = self._make_layer(block, 64, layers[0])\n",
    "        self.layer2 = self._make_layer(block, 128, layers[1], stride=2,\n",
    "                                       dilate=replace_stride_with_dilation[0])\n",
    "        self.layer3 = self._make_layer(block, 256, layers[2], stride=2,\n",
    "                                       dilate=replace_stride_with_dilation[1])\n",
    "        self.layer4 = self._make_layer(block, 512, layers[3], stride=2,\n",
    "                                       dilate=replace_stride_with_dilation[2])\n",
    "        self.avgpool = nn.AdaptiveAvgPool2d((1, 1))\n",
    "        self.fc = nn.Linear(512 * block.expansion, num_classes)\n",
    "        \n",
    "        # audio\n",
    "        self.linear1 = nn.Linear(104, 512)\n",
    "        self.linear2 = nn.Linear(512, 512)\n",
    "\n",
    "        for m in self.modules():\n",
    "            if isinstance(m, nn.Conv2d):\n",
    "                nn.init.kaiming_normal_(m.weight, mode='fan_out', nonlinearity='relu')\n",
    "            elif isinstance(m, (nn.BatchNorm2d, nn.GroupNorm)):\n",
    "                nn.init.constant_(m.weight, 1)\n",
    "                nn.init.constant_(m.bias, 0)\n",
    "\n",
    "        # Zero-initialize the last BN in each residual branch,\n",
    "        # so that the residual branch starts with zeros, and each residual block behaves like an identity.\n",
    "        # This improves the model by 0.2~0.3% according to https://arxiv.org/abs/1706.02677\n",
    "        if zero_init_residual:\n",
    "            for m in self.modules():\n",
    "                if isinstance(m, Bottleneck):\n",
    "                    nn.init.constant_(m.bn3.weight, 0)\n",
    "                elif isinstance(m, BasicBlock):\n",
    "                    nn.init.constant_(m.bn2.weight, 0)\n",
    "\n",
    "    def _make_layer(self, block, planes, blocks, stride=1, dilate=False):\n",
    "        norm_layer = self._norm_layer\n",
    "        downsample = None\n",
    "        previous_dilation = self.dilation\n",
    "        if dilate:\n",
    "            self.dilation *= stride\n",
    "            stride = 1\n",
    "        if stride != 1 or self.inplanes != planes * block.expansion:\n",
    "            downsample = nn.Sequential(\n",
    "                conv1x1(self.inplanes, planes * block.expansion, stride),\n",
    "                norm_layer(planes * block.expansion),\n",
    "            )\n",
    "\n",
    "        layers = []\n",
    "        layers.append(block(self.inplanes, planes, stride, downsample, self.groups,\n",
    "                            self.base_width, previous_dilation, norm_layer))\n",
    "        self.inplanes = planes * block.expansion\n",
    "        for _ in range(1, blocks):\n",
    "            layers.append(block(self.inplanes, planes, groups=self.groups,\n",
    "                                base_width=self.base_width, dilation=self.dilation,\n",
    "                                norm_layer=norm_layer))\n",
    "\n",
    "        return nn.Sequential(*layers)\n",
    "    \n",
    "    def _del_fc(self):\n",
    "        self.fc = None\n",
    "\n",
    "    def _forward_impl(self, x, s):\n",
    "        # See note [TorchScript super()]\n",
    "        x = self.conv1(x)\n",
    "        x = self.bn1(x)\n",
    "        x = self.relu(x)\n",
    "        x = self.maxpool(x)\n",
    "\n",
    "        x = self.layer1(x)\n",
    "        x = self.layer2(x)\n",
    "        x = self.layer3(x)\n",
    "        x = self.layer4(x)\n",
    "\n",
    "        x = self.avgpool(x)\n",
    "        x = torch.flatten(x, 1)\n",
    "        \n",
    "        # audio\n",
    "        s = F.leaky_relu(self.linear1(s))\n",
    "        s = F.leaky_relu(self.linear2(s))\n",
    "        x = x+s\n",
    "        x = self.fc(x)\n",
    "        \n",
    "        return x\n",
    "\n",
    "    def forward(self, x, s):\n",
    "        return self._forward_impl(x,s)\n",
    "    \n",
    "def _resnet(arch, block, layers, pretrained, progress, **kwargs):\n",
    "    model = ResNet(block, layers, **kwargs)\n",
    "    if pretrained:\n",
    "        state_dict = load_state_dict_from_url(model_urls[arch],\n",
    "                                              progress=progress)\n",
    "        model.load_state_dict(state_dict, strict = False)\n",
    "    return model\n",
    "\n",
    "\n",
    "def resnet18(pretrained=False, progress=True, **kwargs):\n",
    "    return _resnet('resnet18', BasicBlock, [2, 2, 2, 2], pretrained, progress,\n",
    "                   **kwargs)"
   ]
  },
  {
   "cell_type": "markdown",
   "metadata": {
    "papermill": {
     "duration": 0.044461,
     "end_time": "2021-03-03T20:26:20.116304",
     "exception": false,
     "start_time": "2021-03-03T20:26:20.071843",
     "status": "completed"
    },
    "tags": []
   },
   "source": [
    "Model and optimizer and scheduler"
   ]
  },
  {
   "cell_type": "code",
   "execution_count": 20,
   "metadata": {
    "execution": {
     "iopub.execute_input": "2021-03-03T20:26:20.218749Z",
     "iopub.status.busy": "2021-03-03T20:26:20.217973Z",
     "iopub.status.idle": "2021-03-03T20:26:20.558200Z",
     "shell.execute_reply": "2021-03-03T20:26:20.557192Z"
    },
    "papermill": {
     "duration": 0.397522,
     "end_time": "2021-03-03T20:26:20.558334",
     "exception": false,
     "start_time": "2021-03-03T20:26:20.160812",
     "status": "completed"
    },
    "tags": []
   },
   "outputs": [],
   "source": [
    "model_multi = resnet18(pretrained=True) # You need to enable internet\n",
    "\n",
    "num_ftrs = model_multi.fc.in_features\n",
    "model_multi.fc = nn.Linear(\n",
    "    in_features = num_ftrs, \n",
    "    out_features = nbClass\n",
    ")\n",
    "model_multi = model_multi.to(device)\n",
    "criterion = nn.CrossEntropyLoss()\n",
    "optimizer = torch.optim.SGD(model_multi.parameters(), lr=0.001, momentum=0.9)\n",
    "\n",
    "# Decay LR by a factor of 0.1 every 7 epochs\n",
    "scheduler = lr_scheduler.StepLR(optimizer, step_size=7, gamma=0.1)"
   ]
  },
  {
   "cell_type": "code",
   "execution_count": 21,
   "metadata": {
    "execution": {
     "iopub.execute_input": "2021-03-03T20:26:20.653679Z",
     "iopub.status.busy": "2021-03-03T20:26:20.653147Z",
     "iopub.status.idle": "2021-03-03T20:26:20.656804Z",
     "shell.execute_reply": "2021-03-03T20:26:20.656341Z"
    },
    "papermill": {
     "duration": 0.053152,
     "end_time": "2021-03-03T20:26:20.656912",
     "exception": false,
     "start_time": "2021-03-03T20:26:20.603760",
     "status": "completed"
    },
    "tags": []
   },
   "outputs": [],
   "source": [
    "acc_dict = {'train':[], 'val':[]}\n",
    "loss_dict= {'train':[], 'val':[]}"
   ]
  },
  {
   "cell_type": "markdown",
   "metadata": {
    "papermill": {
     "duration": 0.044761,
     "end_time": "2021-03-03T20:26:20.747354",
     "exception": false,
     "start_time": "2021-03-03T20:26:20.702593",
     "status": "completed"
    },
    "tags": []
   },
   "source": [
    "Train model"
   ]
  },
  {
   "cell_type": "code",
   "execution_count": 22,
   "metadata": {
    "execution": {
     "iopub.execute_input": "2021-03-03T20:26:20.852298Z",
     "iopub.status.busy": "2021-03-03T20:26:20.851495Z",
     "iopub.status.idle": "2021-03-03T21:08:56.931554Z",
     "shell.execute_reply": "2021-03-03T21:08:56.930996Z"
    },
    "papermill": {
     "duration": 2556.138273,
     "end_time": "2021-03-03T21:08:56.931712",
     "exception": false,
     "start_time": "2021-03-03T20:26:20.793439",
     "status": "completed"
    },
    "tags": []
   },
   "outputs": [
    {
     "name": "stdout",
     "output_type": "stream",
     "text": [
      "Epoch 0/19\n",
      "----------\n",
      "train Loss: 0.2715 Acc: 0.9179\n",
      "val Loss: 0.0256 Acc: 0.9928\n",
      "\n",
      "Epoch 1/19\n",
      "----------\n",
      "train Loss: 0.0620 Acc: 0.9804\n",
      "val Loss: 0.0272 Acc: 0.9917\n",
      "\n",
      "Epoch 2/19\n",
      "----------\n",
      "train Loss: 0.0522 Acc: 0.9834\n",
      "val Loss: 0.0099 Acc: 0.9978\n",
      "\n",
      "Epoch 3/19\n",
      "----------\n",
      "train Loss: 0.0406 Acc: 0.9888\n",
      "val Loss: 0.0189 Acc: 0.9946\n",
      "\n",
      "Epoch 4/19\n",
      "----------\n",
      "train Loss: 0.0216 Acc: 0.9933\n",
      "val Loss: 0.0078 Acc: 0.9978\n",
      "\n",
      "Epoch 5/19\n",
      "----------\n",
      "train Loss: 0.0305 Acc: 0.9910\n",
      "val Loss: 0.0142 Acc: 0.9942\n",
      "\n",
      "Epoch 6/19\n",
      "----------\n",
      "train Loss: 0.0244 Acc: 0.9925\n",
      "val Loss: 0.0117 Acc: 0.9967\n",
      "\n",
      "Epoch 7/19\n",
      "----------\n",
      "train Loss: 0.0154 Acc: 0.9957\n",
      "val Loss: 0.0059 Acc: 0.9978\n",
      "\n",
      "Epoch 8/19\n",
      "----------\n",
      "train Loss: 0.0071 Acc: 0.9977\n",
      "val Loss: 0.0058 Acc: 0.9982\n",
      "\n",
      "Epoch 9/19\n",
      "----------\n",
      "train Loss: 0.0048 Acc: 0.9986\n",
      "val Loss: 0.0045 Acc: 0.9993\n",
      "\n",
      "Epoch 10/19\n",
      "----------\n",
      "train Loss: 0.0044 Acc: 0.9986\n",
      "val Loss: 0.0053 Acc: 0.9982\n",
      "\n",
      "Epoch 11/19\n",
      "----------\n",
      "train Loss: 0.0069 Acc: 0.9979\n",
      "val Loss: 0.0059 Acc: 0.9982\n",
      "\n",
      "Epoch 12/19\n",
      "----------\n",
      "train Loss: 0.0049 Acc: 0.9986\n",
      "val Loss: 0.0059 Acc: 0.9975\n",
      "\n",
      "Epoch 13/19\n",
      "----------\n",
      "train Loss: 0.0031 Acc: 0.9993\n",
      "val Loss: 0.0051 Acc: 0.9993\n",
      "\n",
      "Epoch 14/19\n",
      "----------\n",
      "train Loss: 0.0027 Acc: 0.9993\n",
      "val Loss: 0.0045 Acc: 0.9989\n",
      "\n",
      "Epoch 15/19\n",
      "----------\n",
      "train Loss: 0.0025 Acc: 0.9995\n",
      "val Loss: 0.0048 Acc: 0.9989\n",
      "\n",
      "Epoch 16/19\n",
      "----------\n",
      "train Loss: 0.0043 Acc: 0.9986\n",
      "val Loss: 0.0051 Acc: 0.9989\n",
      "\n",
      "Epoch 17/19\n",
      "----------\n",
      "train Loss: 0.0043 Acc: 0.9988\n",
      "val Loss: 0.0054 Acc: 0.9986\n",
      "\n",
      "Epoch 18/19\n",
      "----------\n",
      "train Loss: 0.0035 Acc: 0.9990\n",
      "val Loss: 0.0051 Acc: 0.9982\n",
      "\n",
      "Epoch 19/19\n",
      "----------\n",
      "train Loss: 0.0023 Acc: 0.9995\n",
      "val Loss: 0.0049 Acc: 0.9993\n",
      "\n",
      "Best val Acc: 0.999275\n"
     ]
    },
    {
     "data": {
      "image/png": "[encoded data removed]",
      "text/plain": [
       "<Figure size 432x288 with 1 Axes>"
      ]
     },
     "metadata": {
      "needs_background": "light"
     },
     "output_type": "display_data"
    },
    {
     "data": {
      "image/png": "[encoded data removed]",
      "text/plain": [
       "<Figure size 432x288 with 1 Axes>"
      ]
     },
     "metadata": {
      "needs_background": "light"
     },
     "output_type": "display_data"
    }
   ],
   "source": [
    "def train_model(model, criterion, optimizer, scheduler, num_epochs=25):\n",
    "    best_model_wts = copy.deepcopy(model.state_dict())\n",
    "    best_acc = 0.0\n",
    "\n",
    "    for epoch in range(num_epochs):\n",
    "        print('Epoch {}/{}'.format(epoch, num_epochs - 1))\n",
    "        print('-' * 10)\n",
    "\n",
    "        # Each epoch has a training and validation phase\n",
    "        for phase in ['train', 'val']:\n",
    "            if phase == 'train':\n",
    "                model.train()  # Set model to training mode\n",
    "            else:\n",
    "                model.eval()   # Set model to evaluate mode\n",
    "\n",
    "            running_loss = 0.0\n",
    "            running_corrects = 0\n",
    "\n",
    "            # Iterate over data.\n",
    "            for images, audio, labels in dataloaders[phase]:\n",
    "                images = images.to(device)\n",
    "                audio = audio.to(device)\n",
    "                labels = labels.type(torch.LongTensor).to(device)\n",
    "\n",
    "                # zero the parameter gradients\n",
    "                optimizer.zero_grad()\n",
    "\n",
    "                # forward\n",
    "                # track history if only in train\n",
    "                with torch.set_grad_enabled(phase == 'train'):\n",
    "                    outputs = model(images, audio).to(device)\n",
    "                    _, preds = torch.max(outputs, 1)\n",
    "                    preds.to(device)\n",
    "                    loss = criterion(outputs, labels)\n",
    "\n",
    "                    # backward + optimize only if in training phase\n",
    "                    if phase == 'train':\n",
    "                        loss.backward()\n",
    "                        optimizer.step()\n",
    "\n",
    "                # statistics\n",
    "                running_loss += loss.item() * images.size(0)\n",
    "                running_corrects += torch.sum(preds == labels.data)\n",
    "            if phase == 'train':\n",
    "                scheduler.step()\n",
    "\n",
    "            epoch_loss = running_loss / dataset_sizes[phase]\n",
    "            epoch_acc = running_corrects.double() / dataset_sizes[phase]\n",
    "\n",
    "            print('{} Loss: {:.4f} Acc: {:.4f}'.format(\n",
    "                phase, epoch_loss, epoch_acc))\n",
    "            acc_dict[phase].append(epoch_acc)\n",
    "            loss_dict[phase].append(epoch_loss)\n",
    "\n",
    "            # deep copy the model\n",
    "            if phase == 'val' and epoch_acc > best_acc:\n",
    "                best_acc = epoch_acc\n",
    "                best_model_wts = copy.deepcopy(model.state_dict())\n",
    "\n",
    "        print()\n",
    "\n",
    "    print('Best val Acc: {:4f}'.format(best_acc))\n",
    "    \n",
    "    show_curves(acc_dict, loss_dict)\n",
    "\n",
    "\n",
    "    # load best model weights\n",
    "    model.load_state_dict(best_model_wts)\n",
    "    return model\n",
    "\n",
    "model_multi = train_model(model_multi, criterion, optimizer, scheduler, num_epochs=20)"
   ]
  },
  {
   "cell_type": "markdown",
   "metadata": {
    "papermill": {
     "duration": 0.066557,
     "end_time": "2021-03-03T21:08:57.065232",
     "exception": false,
     "start_time": "2021-03-03T21:08:56.998675",
     "status": "completed"
    },
    "tags": []
   },
   "source": [
    "# Submission creation"
   ]
  },
  {
   "cell_type": "code",
   "execution_count": 23,
   "metadata": {
    "execution": {
     "iopub.execute_input": "2021-03-03T21:08:57.194041Z",
     "iopub.status.busy": "2021-03-03T21:08:57.193059Z",
     "iopub.status.idle": "2021-03-03T21:09:51.436811Z",
     "shell.execute_reply": "2021-03-03T21:09:51.435811Z"
    },
    "papermill": {
     "duration": 54.309711,
     "end_time": "2021-03-03T21:09:51.436942",
     "exception": false,
     "start_time": "2021-03-03T21:08:57.127231",
     "status": "completed"
    },
    "tags": []
   },
   "outputs": [],
   "source": [
    "y_pred = []\n",
    "y_placeholder = [0]*len(image_test_df)\n",
    "\n",
    "test_dataset = CustomImageAudioDataset(y_placeholder,image_test_df, audio_test_df) # only inputs will be used in training\n",
    "testloader = torch.utils.data.DataLoader(\n",
    "    test_dataset,\n",
    "    batch_size=1,\n",
    "    shuffle=False\n",
    ")\n",
    "\n",
    "for audio,images,_ in testloader:\n",
    "    with torch.set_grad_enabled(False):\n",
    "        outputs = model_multi(audio.to(device), images.to(device))\n",
    "        _, prediction = torch.max(outputs, 1)\n",
    "    \n",
    "    y_pred.append(prediction.item())"
   ]
  },
  {
   "cell_type": "markdown",
   "metadata": {
    "papermill": {
     "duration": 0.057404,
     "end_time": "2021-03-03T21:09:51.554855",
     "exception": false,
     "start_time": "2021-03-03T21:09:51.497451",
     "status": "completed"
    },
    "tags": []
   },
   "source": [
    "# Submission file"
   ]
  },
  {
   "cell_type": "code",
   "execution_count": 24,
   "metadata": {
    "execution": {
     "iopub.execute_input": "2021-03-03T21:09:51.681080Z",
     "iopub.status.busy": "2021-03-03T21:09:51.680564Z",
     "iopub.status.idle": "2021-03-03T21:09:51.821745Z",
     "shell.execute_reply": "2021-03-03T21:09:51.821293Z"
    },
    "papermill": {
     "duration": 0.209775,
     "end_time": "2021-03-03T21:09:51.821872",
     "exception": false,
     "start_time": "2021-03-03T21:09:51.612097",
     "status": "completed"
    },
    "tags": []
   },
   "outputs": [],
   "source": [
    "submission = pd.DataFrame({'CLASS':y_pred})\n",
    "submission=submission.reset_index()\n",
    "submission = submission.rename(columns={'index': 'Id'})\n",
    "submission.to_csv('first_submission.csv', index=False)"
   ]
  }
 ],
 "metadata": {
  "kernelspec": {
   "display_name": "Python 3",
   "language": "python",
   "name": "python3"
  },
  "language_info": {
   "codemirror_mode": {
    "name": "ipython",
    "version": 3
   },
   "file_extension": ".py",
   "mimetype": "text/x-python",
   "name": "python",
   "nbconvert_exporter": "python",
   "pygments_lexer": "ipython3",
   "version": "3.7.9"
  },
  "papermill": {
   "default_parameters": {},
   "duration": 4381.507763,
   "end_time": "2021-03-03T21:09:53.091046",
   "environment_variables": {},
   "exception": null,
   "input_path": "__notebook__.ipynb",
   "output_path": "__notebook__.ipynb",
   "parameters": {},
   "start_time": "2021-03-03T19:56:51.583283",
   "version": "2.2.2"
  },
  "widgets": {
   "application/vnd.jupyter.widget-state+json": {
    "state": {
     "15ea980a00fd4718b2725c4594495cec": {
      "model_module": "@jupyter-widgets/base",
      "model_module_version": "1.2.0",
      "model_name": "LayoutModel",
      "state": {
       "_model_module": "@jupyter-widgets/base",
       "_model_module_version": "1.2.0",
       "_model_name": "LayoutModel",
       "_view_count": null,
       "_view_module": "@jupyter-widgets/base",
       "_view_module_version": "1.2.0",
       "_view_name": "LayoutView",
       "align_content": null,
       "align_items": null,
       "align_self": null,
       "border": null,
       "bottom": null,
       "display": null,
       "flex": null,
       "flex_flow": null,
       "grid_area": null,
       "grid_auto_columns": null,
       "grid_auto_flow": null,
       "grid_auto_rows": null,
       "grid_column": null,
       "grid_gap": null,
       "grid_row": null,
       "grid_template_areas": null,
       "grid_template_columns": null,
       "grid_template_rows": null,
       "height": null,
       "justify_content": null,
       "justify_items": null,
       "left": null,
       "margin": null,
       "max_height": null,
       "max_width": null,
       "min_height": null,
       "min_width": null,
       "object_fit": null,
       "object_position": null,
       "order": null,
       "overflow": null,
       "overflow_x": null,
       "overflow_y": null,
       "padding": null,
       "right": null,
       "top": null,
       "visibility": null,
       "width": null
      }
     },
     "2c33cffbfaf34a2fb9bfe8cb80f3aa82": {
      "model_module": "@jupyter-widgets/controls",
      "model_module_version": "1.5.0",
      "model_name": "HTMLModel",
      "state": {
       "_dom_classes": [],
       "_model_module": "@jupyter-widgets/controls",
       "_model_module_version": "1.5.0",
       "_model_name": "HTMLModel",
       "_view_count": null,
       "_view_module": "@jupyter-widgets/controls",
       "_view_module_version": "1.5.0",
       "_view_name": "HTMLView",
       "description": "",
       "description_tooltip": null,
       "layout": "IPY_MODEL_8d51df17e8504ca39ecba537106d1320",
       "placeholder": "​",
       "style": "IPY_MODEL_7b60e240b057402ab2b617d59ec8bf75",
       "value": "100%"
      }
     },
     "496f8d3056ee47539adf4a67a8958a9b": {
      "model_module": "@jupyter-widgets/controls",
      "model_module_version": "1.5.0",
      "model_name": "FloatProgressModel",
      "state": {
       "_dom_classes": [],
       "_model_module": "@jupyter-widgets/controls",
       "_model_module_version": "1.5.0",
       "_model_name": "FloatProgressModel",
       "_view_count": null,
       "_view_module": "@jupyter-widgets/controls",
       "_view_module_version": "1.5.0",
       "_view_name": "ProgressView",
       "bar_style": "success",
       "description": "",
       "description_tooltip": null,
       "layout": "IPY_MODEL_ec7c801315754d209e091fad36bc2374",
       "max": 46827520.0,
       "min": 0.0,
       "orientation": "horizontal",
       "style": "IPY_MODEL_8baf98fb305a4ed48db3f8cc4453f05c",
       "value": 46827520.0
      }
     },
     "75104a55c5124bd0aa0990cc2a131002": {
      "model_module": "@jupyter-widgets/base",
      "model_module_version": "1.2.0",
      "model_name": "LayoutModel",
      "state": {
       "_model_module": "@jupyter-widgets/base",
       "_model_module_version": "1.2.0",
       "_model_name": "LayoutModel",
       "_view_count": null,
       "_view_module": "@jupyter-widgets/base",
       "_view_module_version": "1.2.0",
       "_view_name": "LayoutView",
       "align_content": null,
       "align_items": null,
       "align_self": null,
       "border": null,
       "bottom": null,
       "display": null,
       "flex": null,
       "flex_flow": null,
       "grid_area": null,
       "grid_auto_columns": null,
       "grid_auto_flow": null,
       "grid_auto_rows": null,
       "grid_column": null,
       "grid_gap": null,
       "grid_row": null,
       "grid_template_areas": null,
       "grid_template_columns": null,
       "grid_template_rows": null,
       "height": null,
       "justify_content": null,
       "justify_items": null,
       "left": null,
       "margin": null,
       "max_height": null,
       "max_width": null,
       "min_height": null,
       "min_width": null,
       "object_fit": null,
       "object_position": null,
       "order": null,
       "overflow": null,
       "overflow_x": null,
       "overflow_y": null,
       "padding": null,
       "right": null,
       "top": null,
       "visibility": null,
       "width": null
      }
     },
     "7b60e240b057402ab2b617d59ec8bf75": {
      "model_module": "@jupyter-widgets/controls",
      "model_module_version": "1.5.0",
      "model_name": "DescriptionStyleModel",
      "state": {
       "_model_module": "@jupyter-widgets/controls",
       "_model_module_version": "1.5.0",
       "_model_name": "DescriptionStyleModel",
       "_view_count": null,
       "_view_module": "@jupyter-widgets/base",
       "_view_module_version": "1.2.0",
       "_view_name": "StyleView",
       "description_width": ""
      }
     },
     "83056ef19bd84e0d9bbd67513b83702f": {
      "model_module": "@jupyter-widgets/controls",
      "model_module_version": "1.5.0",
      "model_name": "HTMLModel",
      "state": {
       "_dom_classes": [],
       "_model_module": "@jupyter-widgets/controls",
       "_model_module_version": "1.5.0",
       "_model_name": "HTMLModel",
       "_view_count": null,
       "_view_module": "@jupyter-widgets/controls",
       "_view_module_version": "1.5.0",
       "_view_name": "HTMLView",
       "description": "",
       "description_tooltip": null,
       "layout": "IPY_MODEL_75104a55c5124bd0aa0990cc2a131002",
       "placeholder": "​",
       "style": "IPY_MODEL_d6f88c256e2f41ca96093a47e538fd11",
       "value": " 44.7M/44.7M [00:02&lt;00:00, 22.0MB/s]"
      }
     },
     "8baf98fb305a4ed48db3f8cc4453f05c": {
      "model_module": "@jupyter-widgets/controls",
      "model_module_version": "1.5.0",
      "model_name": "ProgressStyleModel",
      "state": {
       "_model_module": "@jupyter-widgets/controls",
       "_model_module_version": "1.5.0",
       "_model_name": "ProgressStyleModel",
       "_view_count": null,
       "_view_module": "@jupyter-widgets/base",
       "_view_module_version": "1.2.0",
       "_view_name": "StyleView",
       "bar_color": null,
       "description_width": ""
      }
     },
     "8d51df17e8504ca39ecba537106d1320": {
      "model_module": "@jupyter-widgets/base",
      "model_module_version": "1.2.0",
      "model_name": "LayoutModel",
      "state": {
       "_model_module": "@jupyter-widgets/base",
       "_model_module_version": "1.2.0",
       "_model_name": "LayoutModel",
       "_view_count": null,
       "_view_module": "@jupyter-widgets/base",
       "_view_module_version": "1.2.0",
       "_view_name": "LayoutView",
       "align_content": null,
       "align_items": null,
       "align_self": null,
       "border": null,
       "bottom": null,
       "display": null,
       "flex": null,
       "flex_flow": null,
       "grid_area": null,
       "grid_auto_columns": null,
       "grid_auto_flow": null,
       "grid_auto_rows": null,
       "grid_column": null,
       "grid_gap": null,
       "grid_row": null,
       "grid_template_areas": null,
       "grid_template_columns": null,
       "grid_template_rows": null,
       "height": null,
       "justify_content": null,
       "justify_items": null,
       "left": null,
       "margin": null,
       "max_height": null,
       "max_width": null,
       "min_height": null,
       "min_width": null,
       "object_fit": null,
       "object_position": null,
       "order": null,
       "overflow": null,
       "overflow_x": null,
       "overflow_y": null,
       "padding": null,
       "right": null,
       "top": null,
       "visibility": null,
       "width": null
      }
     },
     "ba9e231931e949c9bf5432979019f6a4": {
      "model_module": "@jupyter-widgets/controls",
      "model_module_version": "1.5.0",
      "model_name": "HBoxModel",
      "state": {
       "_dom_classes": [],
       "_model_module": "@jupyter-widgets/controls",
       "_model_module_version": "1.5.0",
       "_model_name": "HBoxModel",
       "_view_count": null,
       "_view_module": "@jupyter-widgets/controls",
       "_view_module_version": "1.5.0",
       "_view_name": "HBoxView",
       "box_style": "",
       "children": [
        "IPY_MODEL_2c33cffbfaf34a2fb9bfe8cb80f3aa82",
        "IPY_MODEL_496f8d3056ee47539adf4a67a8958a9b",
        "IPY_MODEL_83056ef19bd84e0d9bbd67513b83702f"
       ],
       "layout": "IPY_MODEL_15ea980a00fd4718b2725c4594495cec"
      }
     },
     "d6f88c256e2f41ca96093a47e538fd11": {
      "model_module": "@jupyter-widgets/controls",
      "model_module_version": "1.5.0",
      "model_name": "DescriptionStyleModel",
      "state": {
       "_model_module": "@jupyter-widgets/controls",
       "_model_module_version": "1.5.0",
       "_model_name": "DescriptionStyleModel",
       "_view_count": null,
       "_view_module": "@jupyter-widgets/base",
       "_view_module_version": "1.2.0",
       "_view_name": "StyleView",
       "description_width": ""
      }
     },
     "ec7c801315754d209e091fad36bc2374": {
      "model_module": "@jupyter-widgets/base",
      "model_module_version": "1.2.0",
      "model_name": "LayoutModel",
      "state": {
       "_model_module": "@jupyter-widgets/base",
       "_model_module_version": "1.2.0",
       "_model_name": "LayoutModel",
       "_view_count": null,
       "_view_module": "@jupyter-widgets/base",
       "_view_module_version": "1.2.0",
       "_view_name": "LayoutView",
       "align_content": null,
       "align_items": null,
       "align_self": null,
       "border": null,
       "bottom": null,
       "display": null,
       "flex": null,
       "flex_flow": null,
       "grid_area": null,
       "grid_auto_columns": null,
       "grid_auto_flow": null,
       "grid_auto_rows": null,
       "grid_column": null,
       "grid_gap": null,
       "grid_row": null,
       "grid_template_areas": null,
       "grid_template_columns": null,
       "grid_template_rows": null,
       "height": null,
       "justify_content": null,
       "justify_items": null,
       "left": null,
       "margin": null,
       "max_height": null,
       "max_width": null,
       "min_height": null,
       "min_width": null,
       "object_fit": null,
       "object_position": null,
       "order": null,
       "overflow": null,
       "overflow_x": null,
       "overflow_y": null,
       "padding": null,
       "right": null,
       "top": null,
       "visibility": null,
       "width": null
      }
     }
    },
    "version_major": 2,
    "version_minor": 0
   }
  }
 },
 "nbformat": 4,
 "nbformat_minor": 4
}
